{
 "cells": [
  {
   "cell_type": "code",
   "execution_count": 1,
   "id": "1207f44d",
   "metadata": {},
   "outputs": [
    {
     "name": "stdout",
     "output_type": "stream",
     "text": [
      "Classical Search Found: 11 at index 3\n",
      "Time taken: 0.00012207 seconds\n"
     ]
    }
   ],
   "source": [
    "import time\n",
    "\n",
    "database = ['00', '01', '10', '11']\n",
    "target = '11'\n",
    "\n",
    "start_time = time.time()\n",
    "\n",
    "for index, item in enumerate(database):\n",
    "    if item == target:\n",
    "        end_time = time.time()\n",
    "        print(f\"Classical Search Found: {item} at index {index}\")\n",
    "        print(f\"Time taken: {end_time - start_time:.8f} seconds\")\n",
    "        break\n"
   ]
  }
 ],
 "metadata": {
  "kernelspec": {
   "display_name": "qenv",
   "language": "python",
   "name": "python3"
  },
  "language_info": {
   "codemirror_mode": {
    "name": "ipython",
    "version": 3
   },
   "file_extension": ".py",
   "mimetype": "text/x-python",
   "name": "python",
   "nbconvert_exporter": "python",
   "pygments_lexer": "ipython3",
   "version": "3.13.3"
  }
 },
 "nbformat": 4,
 "nbformat_minor": 5
}
